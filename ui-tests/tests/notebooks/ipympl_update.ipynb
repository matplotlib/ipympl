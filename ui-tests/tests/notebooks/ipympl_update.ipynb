{
 "cells": [
  {
   "cell_type": "code",
   "execution_count": null,
   "id": "db6498c1",
   "metadata": {},
   "outputs": [],
   "source": [
    "%matplotlib widget\n",
    "\n",
    "import matplotlib.pyplot as plt\n",
    "import numpy as np\n",
    "\n",
    "fig, ax = plt.subplots()\n",
    "\n",
    "# Remove text to avoid tiny differences in rendered output.\n",
    "from matplotlib.testing.decorators import remove_ticks_and_titles\n",
    "remove_ticks_and_titles(fig)\n",
    "fig.canvas.header_visible = False\n",
    "\n",
    "ax.plot(np.sin(np.linspace(0, 20, 100)));"
   ]
  },
  {
   "cell_type": "code",
   "execution_count": null,
   "id": "13b0cdf2",
   "metadata": {},
   "outputs": [],
   "source": [
    "ax.plot(np.cos(np.linspace(0, 20, 100)));"
   ]
  },
  {
   "cell_type": "code",
   "execution_count": null,
   "id": "0fa1c916",
   "metadata": {},
   "outputs": [],
   "source": [
    "fig.canvas.toolbar_visible = True"
   ]
  },
  {
   "cell_type": "code",
   "execution_count": null,
   "id": "71e4cfb2",
   "metadata": {},
   "outputs": [],
   "source": [
    "fig.canvas.toolbar_position = 'top'"
   ]
  },
  {
   "cell_type": "code",
   "execution_count": null,
   "id": "50b6b56b",
   "metadata": {},
   "outputs": [],
   "source": [
    "fig.canvas.toolbar_position = 'bottom'"
   ]
  },
  {
   "cell_type": "code",
   "execution_count": null,
   "id": "4cb665cf",
   "metadata": {},
   "outputs": [],
   "source": [
    "fig.canvas.toolbar_position = 'right'"
   ]
  },
  {
   "cell_type": "code",
   "execution_count": null,
   "id": "4cd50c8c",
   "metadata": {},
   "outputs": [],
   "source": [
    "fig.canvas.toolbar_position = 'left'"
   ]
  },
  {
   "cell_type": "code",
   "execution_count": null,
   "id": "13428bb2",
   "metadata": {},
   "outputs": [],
   "source": [
    "fig.canvas.toolbar.button_style = 'warning'"
   ]
  },
  {
   "cell_type": "code",
   "execution_count": null,
   "id": "6777ad81",
   "metadata": {},
   "outputs": [],
   "source": [
    "fig.canvas.toolbar.button_style = 'info'"
   ]
  },
  {
   "cell_type": "code",
   "execution_count": null,
   "id": "717a1355",
   "metadata": {},
   "outputs": [],
   "source": [
    "fig.canvas.toolbar.button_style = 'danger'"
   ]
  },
  {
   "cell_type": "code",
   "execution_count": null,
   "id": "7f75d4cf",
   "metadata": {},
   "outputs": [],
   "source": [
    "fig.canvas.toolbar.button_style = 'success'"
   ]
  },
  {
   "cell_type": "code",
   "execution_count": null,
   "id": "54b8dcac",
   "metadata": {},
   "outputs": [],
   "source": [
    "fig.canvas.toolbar.button_style = ''"
   ]
  },
  {
   "cell_type": "code",
   "execution_count": null,
   "id": "e665d801",
   "metadata": {},
   "outputs": [],
   "source": [
    "fig.canvas.footer_visible = False"
   ]
  },
  {
   "cell_type": "code",
   "execution_count": null,
   "id": "3c06d387",
   "metadata": {},
   "outputs": [],
   "source": [
    "fig.canvas.resizable = False"
   ]
  }
 ],
 "metadata": {
  "kernelspec": {
   "display_name": "Python 3 (ipykernel)",
   "language": "python",
   "name": "python3"
  },
  "language_info": {
   "codemirror_mode": {
    "name": "ipython",
    "version": 3
   },
   "file_extension": ".py",
   "mimetype": "text/x-python",
   "name": "python",
   "nbconvert_exporter": "python",
   "pygments_lexer": "ipython3",
   "version": "3.10.0"
  }
 },
 "nbformat": 4,
 "nbformat_minor": 5
}
